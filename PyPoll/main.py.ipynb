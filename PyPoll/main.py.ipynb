{
 "cells": [
  {
   "cell_type": "code",
   "execution_count": 23,
   "metadata": {},
   "outputs": [],
   "source": [
    "import os \n",
    "import csv"
   ]
  },
  {
   "cell_type": "code",
   "execution_count": 24,
   "metadata": {},
   "outputs": [],
   "source": [
    "csvpath = os.path.join('Resources', 'election_data.csv')"
   ]
  },
  {
   "cell_type": "code",
   "execution_count": 25,
   "metadata": {},
   "outputs": [],
   "source": [
    "total_votes = 0\n",
    "Khan = 0\n",
    "Correy = 0 \n",
    "Li = 0\n",
    "oTooley = 0 "
   ]
  },
  {
   "cell_type": "code",
   "execution_count": 26,
   "metadata": {},
   "outputs": [],
   "source": [
    "candidates = [\"Khan\", \"Correy\", \"Li\", \"O'Tooley\"]\n",
    "votes = [Khan, Correy, Li, oTooley]"
   ]
  },
  {
   "cell_type": "code",
   "execution_count": 27,
   "metadata": {},
   "outputs": [],
   "source": [
    "with open(csvpath, newline=\"\") as file: \n",
    "    csvreader = csv.reader(file, delimiter=\",\")\n",
    "    header = next(csvreader)\n",
    "    for row in csvreader: \n",
    "        total_votes +=1 \n",
    "        if row[2] == \"Khan\": Khan +=1\n",
    "        elif row[2] == \"Correy\": Correy +=1\n",
    "        elif row[2] == \"Li\": Li +=1\n",
    "        elif row[2] == \"O'Tooley\": oTooley +=1"
   ]
  },
  {
   "cell_type": "code",
   "execution_count": 28,
   "metadata": {},
   "outputs": [
    {
     "name": "stdout",
     "output_type": "stream",
     "text": [
      "3521001\n"
     ]
    }
   ],
   "source": [
    "print(total_votes)\n"
   ]
  },
  {
   "cell_type": "code",
   "execution_count": 29,
   "metadata": {},
   "outputs": [
    {
     "name": "stdout",
     "output_type": "stream",
     "text": [
      "2218231\n"
     ]
    }
   ],
   "source": [
    "print(Khan)"
   ]
  },
  {
   "cell_type": "code",
   "execution_count": 30,
   "metadata": {},
   "outputs": [
    {
     "name": "stdout",
     "output_type": "stream",
     "text": [
      "704200\n"
     ]
    }
   ],
   "source": [
    "print(Correy)"
   ]
  },
  {
   "cell_type": "code",
   "execution_count": 31,
   "metadata": {},
   "outputs": [],
   "source": [
    "combined_candidates_votes = dict(zip(candidates, votes))\n",
    "winner = max(combined_candidates_votes, key = combined_candidates_votes.get)"
   ]
  },
  {
   "cell_type": "code",
   "execution_count": 32,
   "metadata": {},
   "outputs": [
    {
     "name": "stdout",
     "output_type": "stream",
     "text": [
      "Khan\n"
     ]
    }
   ],
   "source": [
    "print(winner)"
   ]
  },
  {
   "cell_type": "code",
   "execution_count": 33,
   "metadata": {},
   "outputs": [
    {
     "name": "stdout",
     "output_type": "stream",
     "text": [
      "{'Khan': 0, 'Correy': 0, 'Li': 0, \"O'Tooley\": 0}\n"
     ]
    }
   ],
   "source": [
    "print(combined_candidates_votes)"
   ]
  },
  {
   "cell_type": "code",
   "execution_count": 34,
   "metadata": {},
   "outputs": [],
   "source": [
    "khan_percentage = (Khan/total_votes) * 100\n",
    "correy_percentage = (Correy/total_votes) * 100 \n",
    "li_percentage = (Li/total_votes) * 100 \n",
    "otooley_percentage = (oTooley/total_votes)*100 "
   ]
  },
  {
   "cell_type": "code",
   "execution_count": 35,
   "metadata": {},
   "outputs": [
    {
     "name": "stdout",
     "output_type": "stream",
     "text": [
      "63.00001050837531\n",
      "19.999994319797125\n",
      "13.999996023857989\n",
      "2.999999147969569\n"
     ]
    }
   ],
   "source": [
    "print(khan_percentage)\n",
    "print(correy_percentage)\n",
    "print(li_percentage)\n",
    "print(otooley_percentage)"
   ]
  },
  {
   "cell_type": "code",
   "execution_count": 38,
   "metadata": {},
   "outputs": [],
   "source": [
    "output_file = os.path.join(\"analysis\", \"Election_Results.csv\")"
   ]
  },
  {
   "cell_type": "code",
   "execution_count": 50,
   "metadata": {},
   "outputs": [],
   "source": [
    "with open(output_file, \"w\") as file: \n",
    "    file.write(f\"Election Results\")\n",
    "    file.write(f\"Total Votes: {total_votes}\")\n",
    "    file.write(\"\\n\")\n",
    "    file.write(f\"Khan: {khan_percentage}% (Khan)\")\n",
    "    file.write(\"\\n\")\n",
    "    file.write(f\"Correy: {correy_percentage}% ({Correy})\")\n",
    "    file.write(\"\\n\")\n",
    "    file.write(f\"Li: {li_percentage}% ({Li})\")\n",
    "    file.write(\"\\n\")\n",
    "    file.write(f\"O'Tooley: {otooley_percentage}% ({oTooley})\")\n",
    "    file.write(\"\\n\")\n",
    "    file.write(f\"Winner: {winner}\")"
   ]
  },
  {
   "cell_type": "code",
   "execution_count": null,
   "metadata": {},
   "outputs": [],
   "source": []
  }
 ],
 "metadata": {
  "kernelspec": {
   "display_name": "Python 3",
   "language": "python",
   "name": "python3"
  },
  "language_info": {
   "codemirror_mode": {
    "name": "ipython",
    "version": 3
   },
   "file_extension": ".py",
   "mimetype": "text/x-python",
   "name": "python",
   "nbconvert_exporter": "python",
   "pygments_lexer": "ipython3",
   "version": "3.8.5"
  }
 },
 "nbformat": 4,
 "nbformat_minor": 4
}
