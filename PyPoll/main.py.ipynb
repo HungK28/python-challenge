{
 "cells": [
  {
   "cell_type": "code",
   "execution_count": 5,
   "metadata": {},
   "outputs": [],
   "source": [
    "import os \n",
    "import csv"
   ]
  },
  {
   "cell_type": "code",
   "execution_count": 6,
   "metadata": {},
   "outputs": [],
   "source": [
    "csvpath = os.path.join('Resources', 'election_data.csv')"
   ]
  },
  {
   "cell_type": "code",
   "execution_count": 7,
   "metadata": {},
   "outputs": [],
   "source": [
    "total_votes = 0\n",
    "Khan = 0\n",
    "Correy = 0 \n",
    "Li = 0\n",
    "oTooley = 0 "
   ]
  },
  {
   "cell_type": "code",
   "execution_count": 8,
   "metadata": {},
   "outputs": [],
   "source": [
    "with open(csvpath, newline=\"\") as file: \n",
    "    csvreader = csv.reader(file, delimiter=\",\")\n",
    "    header = next(csvreader)\n",
    "    for row in csvreader: \n",
    "        total_votes +=1 \n",
    "        if row[2] == \"Khan\": Khan +=1\n",
    "        elif row[2] == \"Correy\": Correy +=1\n",
    "        elif row[2] == \"Li\": Li +=1\n",
    "        elif row[2] == \"O'Tooley\": oTooley +=1"
   ]
  },
  {
   "cell_type": "code",
   "execution_count": null,
   "metadata": {},
   "outputs": [],
   "source": []
  }
 ],
 "metadata": {
  "kernelspec": {
   "display_name": "Python 3",
   "language": "python",
   "name": "python3"
  },
  "language_info": {
   "codemirror_mode": {
    "name": "ipython",
    "version": 3
   },
   "file_extension": ".py",
   "mimetype": "text/x-python",
   "name": "python",
   "nbconvert_exporter": "python",
   "pygments_lexer": "ipython3",
   "version": "3.8.5"
  }
 },
 "nbformat": 4,
 "nbformat_minor": 4
}
