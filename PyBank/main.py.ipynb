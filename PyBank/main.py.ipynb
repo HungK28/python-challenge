{
 "cells": [
  {
   "cell_type": "code",
   "execution_count": 122,
   "metadata": {},
   "outputs": [],
   "source": [
    "import os"
   ]
  },
  {
   "cell_type": "code",
   "execution_count": 123,
   "metadata": {},
   "outputs": [],
   "source": [
    "import csv"
   ]
  },
  {
   "cell_type": "code",
   "execution_count": 124,
   "metadata": {},
   "outputs": [],
   "source": [
    "csvpath = os.path.join('Resources', 'budget_data.csv')"
   ]
  },
  {
   "cell_type": "code",
   "execution_count": 125,
   "metadata": {},
   "outputs": [],
   "source": [
    "total_months = []\n",
    "total_profit = []\n",
    "profit_change = []"
   ]
  },
  {
   "cell_type": "code",
   "execution_count": 126,
   "metadata": {},
   "outputs": [],
   "source": [
    "with open(csvpath, newline=\"\") as csvfile:\n",
    "    csvreader = csv.reader(csvfile, delimiter=',')\n",
    "    header = next(csvreader)\n",
    "    for row in csvreader: \n",
    "        total_months.append(row[0])\n",
    "        total_profit.append(int(row[1]))\n",
    "    \n",
    "        \n",
    "    "
   ]
  },
  {
   "cell_type": "code",
   "execution_count": 127,
   "metadata": {},
   "outputs": [],
   "source": [
    "for i in range(len(total_profit)-1):\n",
    "    profit_change.append(total_profit[i+1]-total_profit[i])\n",
    "    "
   ]
  },
  {
   "cell_type": "code",
   "execution_count": 128,
   "metadata": {},
   "outputs": [],
   "source": [
    "max_profit = max(profit_change)\n",
    "min_profit = min(profit_change)"
   ]
  },
  {
   "cell_type": "code",
   "execution_count": 129,
   "metadata": {},
   "outputs": [],
   "source": [
    "max_month = profit_change.index(max(profit_change))+ 1\n",
    "min_month = profit_change.index(min(profit_change))+ 1"
   ]
  },
  {
   "cell_type": "code",
   "execution_count": 141,
   "metadata": {},
   "outputs": [
    {
     "name": "stdout",
     "output_type": "stream",
     "text": [
      "Financial Analysis\n",
      "Total Months: 86\n",
      "Total: $38382578\n",
      "Average Change: -2315.12\n",
      "Greatest Increase in Profits: Feb-2012 ($25)\n",
      "Greatest Decrease in Profits: Sep-2013 ($44)\n"
     ]
    }
   ],
   "source": [
    "\n",
    "print(\"Financial Analysis\")\n",
    "print(f\"Total Months: {len(total_months)}\")\n",
    "print(f\"Total: ${sum(total_profit)}\")\n",
    "print(f\"Average Change: {round(sum(profit_change)/len(profit_change), 2)}\")\n",
    "print(f\"Greatest Increase in Profits: {total_months[max_month]} (${str(max_month)})\")\n",
    "print(f\"Greatest Decrease in Profits: {total_months[min_month]} (${str(min_month)})\")"
   ]
  },
  {
   "cell_type": "code",
   "execution_count": 131,
   "metadata": {},
   "outputs": [],
   "source": [
    "output_file = os.path.join(\"analysis\",\"Financial_Results.csv\")"
   ]
  },
  {
   "cell_type": "code",
   "execution_count": 143,
   "metadata": {
    "scrolled": true
   },
   "outputs": [],
   "source": [
    "with open(output_file, \"w\") as datafile:\n",
    "    writer=csv.writer(datafile)\n",
    "    writer.writerow(\"Financial Analysis\")\n",
    "    writer.writerow(f\"Total Months: {len(total_months)}\")\n",
    "    writer.writerow(f\"Total: ${sum(total_profit)}\")\n",
    "    writer.writerow(f\"Average Change: {round(sum(profit_change)/len(profit_change),2)}\")\n",
    "    writer.writerow(f\"Greatest Increase in Profits: {total_months[max_month]} (${(str(max_profit))})\")\n",
    "    writer.writerow(f\"Greatest Decrease in Profits: {total_months[min_month]} (${(str(min_profit))})\")"
   ]
  },
  {
   "cell_type": "code",
   "execution_count": null,
   "metadata": {},
   "outputs": [],
   "source": []
  },
  {
   "cell_type": "code",
   "execution_count": null,
   "metadata": {},
   "outputs": [],
   "source": []
  }
 ],
 "metadata": {
  "kernelspec": {
   "display_name": "Python 3",
   "language": "python",
   "name": "python3"
  },
  "language_info": {
   "codemirror_mode": {
    "name": "ipython",
    "version": 3
   },
   "file_extension": ".py",
   "mimetype": "text/x-python",
   "name": "python",
   "nbconvert_exporter": "python",
   "pygments_lexer": "ipython3",
   "version": "3.8.5"
  }
 },
 "nbformat": 4,
 "nbformat_minor": 4
}
